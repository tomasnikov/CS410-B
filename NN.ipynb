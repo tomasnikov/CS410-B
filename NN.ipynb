{
 "cells": [
  {
   "cell_type": "code",
   "execution_count": 2,
   "metadata": {},
   "outputs": [],
   "source": [
    "import torch\n",
    "import torchvision\n",
    "import torchvision.transforms as transforms\n",
    "\n",
    "batch_size = 64\n",
    "\n",
    "# load and normalize MNIST\n",
    "transform = transforms.Compose(\n",
    "    [transforms.ToTensor()])#,\n",
    "trainset = torchvision.datasets.MNIST(root='./data', train=True,\n",
    "                                        download=True, transform=transform)\n",
    "trainloader = torch.utils.data.DataLoader(trainset, batch_size=batch_size,\n",
    "                                          shuffle=True, num_workers=1)\n",
    "\n",
    "testset = torchvision.datasets.MNIST(root='./data', train=False,\n",
    "                                       download=True, transform=transform)\n",
    "testloader = torch.utils.data.DataLoader(testset, batch_size=batch_size,\n",
    "                                         shuffle=False, num_workers=1)\n",
    "\n",
    "classes = ('0', '1', '2', '3',\n",
    "           '4', '5', '6', '7', '8', '9')\n",
    "\n"
   ]
  },
  {
   "cell_type": "code",
   "execution_count": 3,
   "metadata": {},
   "outputs": [
    {
     "data": {
      "image/png": "[encoded data removed]",
      "text/plain": [
       "<Figure size 432x288 with 1 Axes>"
      ]
     },
     "metadata": {
      "needs_background": "light"
     },
     "output_type": "display_data"
    },
    {
     "name": "stdout",
     "output_type": "stream",
     "text": [
      "    4     6     7     1\n"
     ]
    },
    {
     "data": {
      "text/plain": [
       "torch.Size([64, 1, 28, 28])"
      ]
     },
     "execution_count": 3,
     "metadata": {},
     "output_type": "execute_result"
    }
   ],
   "source": [
    "%matplotlib inline\n",
    "import matplotlib.pyplot as plt\n",
    "import numpy as np\n",
    "\n",
    "# functions to show an image\n",
    "\n",
    "\n",
    "def imshow(img):\n",
    "    img = img / 2 + 0.5     # unnormalize\n",
    "    npimg = img.numpy()\n",
    "    plt.imshow(np.transpose(npimg, (1, 2, 0)))\n",
    "    plt.show()\n",
    "\n",
    "\n",
    "# get some random training images\n",
    "dataiter = iter(trainloader)\n",
    "images, labels = dataiter.next()\n",
    "\n",
    "# show images\n",
    "imshow(torchvision.utils.make_grid(images))\n",
    "# print labels\n",
    "print(' '.join('%5s' % classes[labels[j]] for j in range(4)))\n",
    "images.shape"
   ]
  },
  {
   "cell_type": "code",
   "execution_count": 4,
   "metadata": {},
   "outputs": [
    {
     "name": "stdout",
     "output_type": "stream",
     "text": [
      "Net(\n",
      "  (fc1): Linear(in_features=784, out_features=8, bias=True)\n",
      "  (fc2): Linear(in_features=8, out_features=8, bias=True)\n",
      "  (fc3): Linear(in_features=8, out_features=8, bias=True)\n",
      "  (fc4): Linear(in_features=8, out_features=10, bias=True)\n",
      ")\n"
     ]
    }
   ],
   "source": [
    "# Define the network\n",
    "import torch.nn as nn\n",
    "import torch.nn.functional as F\n",
    "\n",
    "# use_gpu = torch.cuda.is_available()\n",
    "\n",
    "class Net(nn.Module):\n",
    "    def __init__(self):\n",
    "        super(Net, self).__init__()\n",
    "        self.fc1 = nn.Linear(28 * 28, 8)\n",
    "        self.fc2 = nn.Linear(8, 8)\n",
    "        self.fc3 = nn.Linear(8, 8)\n",
    "        self.fc4 = nn.Linear(8, 10)\n",
    "\n",
    "    def forward(self, x):\n",
    "        x = x.view(-1, 28 * 28) # flatten \n",
    "        x = F.relu(self.fc1(x))\n",
    "        x = F.relu(self.fc2(x))\n",
    "        x = F.relu(self.fc3(x))\n",
    "        x = self.fc4(x)\n",
    "        return x\n",
    "\n",
    "    \n",
    "#### initialisation sample   \n",
    "\n",
    "def weights_init(m):\n",
    "    classname = m.__class__.__name__\n",
    "    print(classname)\n",
    "    if classname.find('Conv2d') != -1:\n",
    "        #print(m.weight.data.shape, m.bias.data.shape)\n",
    "        nn.init.normal_(m.weight.data, 0.0, 1.0)\n",
    "        nn.init.constant_(m.bias.data, 0.0)\n",
    "        # bias is the term in wx + b\n",
    "    elif classname.find('Linear') != -1:\n",
    "        nn.init.normal_(m.weight.data, 0.0, 1.0)\n",
    "        nn.init.constant_(m.bias.data, 0.0)\n",
    "\n",
    "    # uniform distribution\n",
    "    #nn.init.uniform_(tensor, a=0, b=1)\n",
    "    \n",
    "    #normal distribution\n",
    "    #nn.init.normal_(tensor, mean=0, std=1)\n",
    "    #.........\n",
    "net = Net()\n",
    "    \n",
    "print(net)\n",
    "#net.apply(weights_init)"
   ]
  },
  {
   "cell_type": "code",
   "execution_count": 5,
   "metadata": {
    "collapsed": true
   },
   "outputs": [
    {
     "name": "stdout",
     "output_type": "stream",
     "text": [
      "[1,   400] loss: 0.462\n",
      "[1,   800] loss: 0.455\n",
      "[2,   400] loss: 0.432\n",
      "[2,   800] loss: 0.380\n",
      "[3,   400] loss: 0.300\n",
      "[3,   800] loss: 0.241\n",
      "[4,   400] loss: 0.202\n",
      "[4,   800] loss: 0.187\n",
      "[5,   400] loss: 0.173\n",
      "[5,   800] loss: 0.167\n",
      "[6,   400] loss: 0.157\n",
      "[6,   800] loss: 0.155\n",
      "[7,   400] loss: 0.146\n",
      "[7,   800] loss: 0.143\n",
      "[8,   400] loss: 0.140\n",
      "[8,   800] loss: 0.133\n",
      "[9,   400] loss: 0.129\n",
      "[9,   800] loss: 0.124\n",
      "[10,   400] loss: 0.114\n",
      "[10,   800] loss: 0.113\n",
      "[11,   400] loss: 0.105\n",
      "[11,   800] loss: 0.102\n",
      "[12,   400] loss: 0.097\n",
      "[12,   800] loss: 0.095\n",
      "[13,   400] loss: 0.092\n",
      "[13,   800] loss: 0.089\n",
      "[14,   400] loss: 0.088\n",
      "[14,   800] loss: 0.086\n",
      "[15,   400] loss: 0.086\n",
      "[15,   800] loss: 0.085\n",
      "[16,   400] loss: 0.084\n",
      "[16,   800] loss: 0.081\n",
      "[17,   400] loss: 0.080\n",
      "[17,   800] loss: 0.080\n",
      "[18,   400] loss: 0.080\n",
      "[18,   800] loss: 0.078\n",
      "[19,   400] loss: 0.076\n",
      "[19,   800] loss: 0.078\n",
      "[20,   400] loss: 0.076\n",
      "[20,   800] loss: 0.074\n",
      "[21,   400] loss: 0.073\n",
      "[21,   800] loss: 0.073\n",
      "[22,   400] loss: 0.071\n",
      "[22,   800] loss: 0.072\n",
      "[23,   400] loss: 0.070\n",
      "[23,   800] loss: 0.070\n",
      "[24,   400] loss: 0.069\n",
      "[24,   800] loss: 0.067\n",
      "[25,   400] loss: 0.066\n",
      "[25,   800] loss: 0.068\n",
      "[26,   400] loss: 0.066\n",
      "[26,   800] loss: 0.064\n",
      "[27,   400] loss: 0.065\n",
      "[27,   800] loss: 0.063\n",
      "[28,   400] loss: 0.063\n",
      "[28,   800] loss: 0.061\n",
      "[29,   400] loss: 0.060\n",
      "[29,   800] loss: 0.063\n",
      "[30,   400] loss: 0.059\n",
      "[30,   800] loss: 0.062\n",
      "[31,   400] loss: 0.058\n",
      "[31,   800] loss: 0.062\n",
      "[32,   400] loss: 0.059\n",
      "[32,   800] loss: 0.059\n",
      "[33,   400] loss: 0.058\n",
      "[33,   800] loss: 0.058\n",
      "[34,   400] loss: 0.058\n",
      "[34,   800] loss: 0.058\n",
      "[35,   400] loss: 0.056\n",
      "[35,   800] loss: 0.058\n",
      "[36,   400] loss: 0.056\n",
      "[36,   800] loss: 0.056\n",
      "[37,   400] loss: 0.056\n",
      "[37,   800] loss: 0.055\n",
      "[38,   400] loss: 0.055\n",
      "[38,   800] loss: 0.054\n",
      "[39,   400] loss: 0.055\n",
      "[39,   800] loss: 0.054\n",
      "[40,   400] loss: 0.054\n",
      "[40,   800] loss: 0.054\n",
      "[41,   400] loss: 0.053\n",
      "[41,   800] loss: 0.054\n",
      "[42,   400] loss: 0.054\n",
      "[42,   800] loss: 0.052\n",
      "[43,   400] loss: 0.052\n",
      "[43,   800] loss: 0.053\n",
      "[44,   400] loss: 0.052\n",
      "[44,   800] loss: 0.053\n",
      "[45,   400] loss: 0.052\n",
      "[45,   800] loss: 0.053\n",
      "[46,   400] loss: 0.052\n",
      "[46,   800] loss: 0.052\n",
      "[47,   400] loss: 0.051\n",
      "[47,   800] loss: 0.051\n",
      "[48,   400] loss: 0.052\n",
      "[48,   800] loss: 0.051\n",
      "[49,   400] loss: 0.051\n",
      "[49,   800] loss: 0.051\n",
      "[50,   400] loss: 0.050\n",
      "[50,   800] loss: 0.051\n",
      "Finished Training\n"
     ]
    }
   ],
   "source": [
    "import torch.optim as optim\n",
    "criterion = nn.CrossEntropyLoss()\n",
    "optimizer = optim.SGD(net.parameters(), lr=0.001, momentum=0.9)\n",
    "# optimizer = optim.SGD(net.parameters(), lr=0.001, momentum=0)\n",
    "max_epoch = 50\n",
    "\n",
    "for epoch in range(max_epoch):  # loop over the dataset multiple times\n",
    "\n",
    "    running_loss = 0.0\n",
    "    for i, data in enumerate(trainloader, 0):\n",
    "        # get the inputs\n",
    "        inputs, labels = data\n",
    "#         if use_gpu:\n",
    "#             inputs = inputs.cuda()\n",
    "#             labels = labels.cuda()\n",
    "        # zero the parameter gradients\n",
    "        optimizer.zero_grad()\n",
    "\n",
    "        # forward + backward + optimize\n",
    "        outputs = net(inputs)\n",
    "        loss = criterion(outputs, labels)\n",
    "        loss.backward() # backpropagation of the weights of linear layers as well as the convolutional layers\n",
    "        optimizer.step() # dynamic learning rate\n",
    "\n",
    "        # print statistics\n",
    "        running_loss += loss.item()\n",
    "        if i % 400 == 399:    # print every 2000 mini-batches\n",
    "            print('[%d, %5d] loss: %.3f' %\n",
    "                  (epoch + 1, i + 1, running_loss / 2000))\n",
    "            running_loss = 0.0\n",
    "\n",
    "print('Finished Training')"
   ]
  },
  {
   "cell_type": "code",
   "execution_count": 6,
   "metadata": {},
   "outputs": [
    {
     "name": "stdout",
     "output_type": "stream",
     "text": [
      "torch.Size([64, 1, 28, 28])\n",
      "------------------------\n",
      "torch.Size([64])\n",
      "Accuracy of the network on the 10000 test images: 91 %\n"
     ]
    }
   ],
   "source": [
    "correct = 0\n",
    "total = 0\n",
    "flag = True\n",
    "with torch.no_grad():\n",
    "    for data in testloader:\n",
    "        images, labels = data\n",
    "        if (flag):\n",
    "#             print(images)\n",
    "            single_input = images\n",
    "            print(images.shape)\n",
    "            print('------------------------')\n",
    "            print(labels.shape)\n",
    "            lable = labels\n",
    "            flag = False\n",
    "        outputs = net(images)\n",
    "        _, predicted = torch.max(outputs.data, 1)\n",
    "        total += labels.size(0)\n",
    "        correct += (predicted == labels).sum().item()\n",
    "\n",
    "print('Accuracy of the network on the 10000 test images: %d %%' % (\n",
    "    100 * correct / total))"
   ]
  },
  {
   "cell_type": "code",
   "execution_count": 7,
   "metadata": {},
   "outputs": [],
   "source": [
    "torch.save(net.state_dict(), \"./datasets/nn1.pkl\")"
   ]
  },
  {
   "cell_type": "code",
   "execution_count": 44,
   "metadata": {},
   "outputs": [],
   "source": [
    "# save parameters as json file\n",
    "# {\n",
    "#   \"layers\": [2,2,1],\n",
    "#   \"input\": [0.0, 0.0],\n",
    "#   \"label\": 1,\n",
    "#   \"weights\": {\n",
    "#     \"1\": [[1.0,1.0],[1.0,1.0]],\n",
    "#     \"2\": [[1.0], [-2.0]]\n",
    "#   },\n",
    "#   \"biases\": {\n",
    "#     \"1\": [[0.0], [-1.0]],\n",
    "#     \"2\": [[0.0]]\n",
    "#   }\n",
    "# }\n",
    "import json\n",
    "\n",
    "single_input_list = single_input[0][0].tolist()\n",
    "\n",
    "# output = json.dumps(net.state_dict()[\"fc1.weight\"].tolist())\n",
    "output = {}\n",
    "\n",
    "output['layers'] = [784, 8, 8, 8, 10] # [input, hidden layers, ..., output]\n",
    "\n",
    "output_input = []\n",
    "for i in range(28):\n",
    "    for j in range(28):\n",
    "        output_input.append(single_input_list[i][j])\n",
    "output['input'] = output_input\n",
    "\n",
    "output['label'] = lable.tolist()[0]\n",
    "\n",
    "output_weights = {}\n",
    "output_biases = {}\n",
    "i = 1\n",
    "for param_tensor in net.state_dict():\n",
    "    if ('weight' in param_tensor):\n",
    "        output_weights[str(i)] =  net.state_dict()[param_tensor].tolist()\n",
    "        _T = [list(i) for i in zip(*output_weights[str(i)])]\n",
    "        output_weights[str(i)] = _T\n",
    "    if ('bias' in param_tensor):\n",
    "        output_biases[str(i)] = net.state_dict()[param_tensor].tolist()\n",
    "        i += 1\n",
    "output['weights'] = output_weights\n",
    "output['biases'] = output_biases\n",
    "\n",
    "with open('./datasets/nn1.json', 'w') as f:\n",
    "    json.dump(output, f)\n"
   ]
  },
  {
   "cell_type": "code",
   "execution_count": 40,
   "metadata": {},
   "outputs": [
    {
     "data": {
      "text/plain": [
       "(8,)"
      ]
     },
     "execution_count": 40,
     "metadata": {},
     "output_type": "execute_result"
    }
   ],
   "source": [
    "np.shape(output_biases['1'])"
   ]
  },
  {
   "cell_type": "code",
   "execution_count": 42,
   "metadata": {},
   "outputs": [
    {
     "data": {
      "text/plain": [
       "{'1': [-0.3400254249572754,\n",
       "  0.29992473125457764,\n",
       "  -0.2351541668176651,\n",
       "  -0.10340705513954163,\n",
       "  -0.14482855796813965,\n",
       "  0.5382973551750183,\n",
       "  0.17008961737155914,\n",
       "  -0.20808373391628265],\n",
       " '2': [-0.1012880951166153,\n",
       "  -0.445179283618927,\n",
       "  0.4563092887401581,\n",
       "  -0.5846402049064636,\n",
       "  0.5276255011558533,\n",
       "  0.2961001992225647,\n",
       "  -0.08243300765752792,\n",
       "  -0.2787793278694153],\n",
       " '3': [-0.2138962745666504,\n",
       "  0.37811896204948425,\n",
       "  0.12742750346660614,\n",
       "  0.14503422379493713,\n",
       "  -0.0004599590029101819,\n",
       "  -0.11501570045948029,\n",
       "  0.08474891632795334,\n",
       "  0.25087079405784607],\n",
       " '4': [0.6060215830802917,\n",
       "  0.9034374356269836,\n",
       "  0.5492926836013794,\n",
       "  -0.6227919459342957,\n",
       "  -0.24092237651348114,\n",
       "  -0.06741389632225037,\n",
       "  -0.08140788227319717,\n",
       "  0.5086432099342346,\n",
       "  -1.7465920448303223,\n",
       "  -0.369319349527359]}"
      ]
     },
     "execution_count": 42,
     "metadata": {},
     "output_type": "execute_result"
    }
   ],
   "source": [
    "output_biases"
   ]
  }
 ],
 "metadata": {
  "kernelspec": {
   "display_name": "Python 3",
   "language": "python",
   "name": "python3"
  },
  "language_info": {
   "codemirror_mode": {
    "name": "ipython",
    "version": 3
   },
   "file_extension": ".py",
   "mimetype": "text/x-python",
   "name": "python",
   "nbconvert_exporter": "python",
   "pygments_lexer": "ipython3",
   "version": "3.7.1"
  }
 },
 "nbformat": 4,
 "nbformat_minor": 2
}
