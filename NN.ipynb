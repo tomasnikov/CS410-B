{
 "cells": [
  {
   "cell_type": "code",
   "execution_count": 31,
   "metadata": {},
   "outputs": [],
   "source": [
    "import torch\n",
    "import torchvision\n",
    "import torchvision.transforms as transforms\n",
    "\n",
    "batch_size = 64\n",
    "\n",
    "# load and normalize MNIST\n",
    "transform = transforms.Compose(\n",
    "    [transforms.ToTensor()])#,\n",
    "trainset = torchvision.datasets.MNIST(root='./data', train=True,\n",
    "                                        download=True, transform=transform)\n",
    "trainloader = torch.utils.data.DataLoader(trainset, batch_size=batch_size,\n",
    "                                          shuffle=True, num_workers=1)\n",
    "\n",
    "testset = torchvision.datasets.MNIST(root='./data', train=False,\n",
    "                                       download=True, transform=transform)\n",
    "testloader = torch.utils.data.DataLoader(testset, batch_size=batch_size,\n",
    "                                         shuffle=False, num_workers=1)\n",
    "\n",
    "classes = ('0', '1', '2', '3',\n",
    "           '4', '5', '6', '7', '8', '9')\n",
    "\n"
   ]
  },
  {
   "cell_type": "code",
   "execution_count": 27,
   "metadata": {
    "collapsed": true
   },
   "outputs": [
    {
     "data": {
      "image/png": "[encoded data removed]",
      "text/plain": [
       "<Figure size 432x288 with 1 Axes>"
      ]
     },
     "metadata": {
      "needs_background": "light"
     },
     "output_type": "display_data"
    },
    {
     "name": "stdout",
     "output_type": "stream",
     "text": [
      "    4     2     3     9\n"
     ]
    },
    {
     "data": {
      "text/plain": [
       "torch.Size([128, 1, 28, 28])"
      ]
     },
     "execution_count": 27,
     "metadata": {},
     "output_type": "execute_result"
    }
   ],
   "source": [
    "%matplotlib inline\n",
    "import matplotlib.pyplot as plt\n",
    "import numpy as np\n",
    "\n",
    "# functions to show an image\n",
    "\n",
    "\n",
    "def imshow(img):\n",
    "    img = img / 2 + 0.5     # unnormalize\n",
    "    npimg = img.numpy()\n",
    "    plt.imshow(np.transpose(npimg, (1, 2, 0)))\n",
    "    plt.show()\n",
    "\n",
    "\n",
    "# get some random training images\n",
    "dataiter = iter(trainloader)\n",
    "images, labels = dataiter.next()\n",
    "\n",
    "# show images\n",
    "imshow(torchvision.utils.make_grid(images))\n",
    "# print labels\n",
    "print(' '.join('%5s' % classes[labels[j]] for j in range(4)))\n",
    "images.shape"
   ]
  },
  {
   "cell_type": "code",
   "execution_count": 28,
   "metadata": {},
   "outputs": [
    {
     "name": "stdout",
     "output_type": "stream",
     "text": [
      "Net(\n",
      "  (fc1): Linear(in_features=784, out_features=8, bias=True)\n",
      "  (fc2): Linear(in_features=8, out_features=8, bias=True)\n",
      "  (fc3): Linear(in_features=8, out_features=8, bias=True)\n",
      "  (fc4): Linear(in_features=8, out_features=10, bias=True)\n",
      ")\n"
     ]
    }
   ],
   "source": [
    "# Define the network\n",
    "import torch.nn as nn\n",
    "import torch.nn.functional as F\n",
    "\n",
    "# use_gpu = torch.cuda.is_available()\n",
    "\n",
    "class Net(nn.Module):\n",
    "    def __init__(self):\n",
    "        super(Net, self).__init__()\n",
    "        self.fc1 = nn.Linear(28 * 28, 8)\n",
    "        self.fc2 = nn.Linear(8, 8)\n",
    "        self.fc3 = nn.Linear(8, 8)\n",
    "        self.fc4 = nn.Linear(8, 10)\n",
    "\n",
    "    def forward(self, x):\n",
    "        x = x.view(-1, 28 * 28) # flatten \n",
    "        x = F.relu(self.fc1(x))\n",
    "        x = F.relu(self.fc2(x))\n",
    "        x = F.relu(self.fc3(x))\n",
    "        x = self.fc4(x)\n",
    "        return x\n",
    "\n",
    "    \n",
    "#### initialisation sample   \n",
    "\n",
    "def weights_init(m):\n",
    "    classname = m.__class__.__name__\n",
    "    print(classname)\n",
    "    if classname.find('Conv2d') != -1:\n",
    "        #print(m.weight.data.shape, m.bias.data.shape)\n",
    "        nn.init.normal_(m.weight.data, 0.0, 1.0)\n",
    "        nn.init.constant_(m.bias.data, 0.0)\n",
    "        # bias is the term in wx + b\n",
    "    elif classname.find('Linear') != -1:\n",
    "        nn.init.normal_(m.weight.data, 0.0, 1.0)\n",
    "        nn.init.constant_(m.bias.data, 0.0)\n",
    "\n",
    "    # uniform distribution\n",
    "    #nn.init.uniform_(tensor, a=0, b=1)\n",
    "    \n",
    "    #normal distribution\n",
    "    #nn.init.normal_(tensor, mean=0, std=1)\n",
    "    #.........\n",
    "net = Net()\n",
    "    \n",
    "print(net)\n",
    "#net.apply(weights_init)"
   ]
  },
  {
   "cell_type": "code",
   "execution_count": 56,
   "metadata": {
    "collapsed": true
   },
   "outputs": [
    {
     "name": "stdout",
     "output_type": "stream",
     "text": [
      "[1,   400] loss: 0.048\n",
      "[1,   800] loss: 0.048\n",
      "[2,   400] loss: 0.047\n",
      "[2,   800] loss: 0.047\n",
      "[3,   400] loss: 0.047\n",
      "[3,   800] loss: 0.048\n",
      "[4,   400] loss: 0.046\n",
      "[4,   800] loss: 0.048\n",
      "[5,   400] loss: 0.047\n",
      "[5,   800] loss: 0.046\n",
      "[6,   400] loss: 0.046\n",
      "[6,   800] loss: 0.048\n",
      "[7,   400] loss: 0.047\n",
      "[7,   800] loss: 0.045\n",
      "[8,   400] loss: 0.045\n",
      "[8,   800] loss: 0.047\n",
      "[9,   400] loss: 0.046\n",
      "[9,   800] loss: 0.045\n",
      "[10,   400] loss: 0.045\n",
      "[10,   800] loss: 0.046\n",
      "[11,   400] loss: 0.046\n",
      "[11,   800] loss: 0.045\n",
      "[12,   400] loss: 0.043\n",
      "[12,   800] loss: 0.047\n",
      "[13,   400] loss: 0.045\n",
      "[13,   800] loss: 0.045\n",
      "[14,   400] loss: 0.044\n",
      "[14,   800] loss: 0.046\n",
      "[15,   400] loss: 0.044\n",
      "[15,   800] loss: 0.046\n",
      "[16,   400] loss: 0.045\n",
      "[16,   800] loss: 0.045\n",
      "[17,   400] loss: 0.044\n",
      "[17,   800] loss: 0.045\n",
      "[18,   400] loss: 0.044\n",
      "[18,   800] loss: 0.043\n",
      "[19,   400] loss: 0.043\n",
      "[19,   800] loss: 0.045\n",
      "[20,   400] loss: 0.044\n",
      "[20,   800] loss: 0.044\n",
      "[21,   400] loss: 0.044\n",
      "[21,   800] loss: 0.044\n",
      "[22,   400] loss: 0.043\n",
      "[22,   800] loss: 0.044\n",
      "[23,   400] loss: 0.045\n",
      "[23,   800] loss: 0.042\n",
      "[24,   400] loss: 0.042\n",
      "[24,   800] loss: 0.045\n",
      "[25,   400] loss: 0.042\n",
      "[25,   800] loss: 0.044\n",
      "[26,   400] loss: 0.043\n",
      "[26,   800] loss: 0.044\n",
      "[27,   400] loss: 0.042\n",
      "[27,   800] loss: 0.043\n",
      "[28,   400] loss: 0.041\n",
      "[28,   800] loss: 0.044\n",
      "[29,   400] loss: 0.041\n",
      "[29,   800] loss: 0.044\n",
      "[30,   400] loss: 0.044\n",
      "[30,   800] loss: 0.041\n",
      "[31,   400] loss: 0.042\n",
      "[31,   800] loss: 0.042\n",
      "[32,   400] loss: 0.041\n",
      "[32,   800] loss: 0.043\n",
      "[33,   400] loss: 0.041\n",
      "[33,   800] loss: 0.043\n",
      "[34,   400] loss: 0.040\n",
      "[34,   800] loss: 0.042\n",
      "[35,   400] loss: 0.042\n",
      "[35,   800] loss: 0.042\n",
      "[36,   400] loss: 0.041\n",
      "[36,   800] loss: 0.042\n",
      "[37,   400] loss: 0.040\n",
      "[37,   800] loss: 0.043\n",
      "[38,   400] loss: 0.041\n",
      "[38,   800] loss: 0.042\n",
      "[39,   400] loss: 0.042\n",
      "[39,   800] loss: 0.042\n",
      "[40,   400] loss: 0.040\n",
      "[40,   800] loss: 0.042\n",
      "[41,   400] loss: 0.040\n",
      "[41,   800] loss: 0.041\n",
      "[42,   400] loss: 0.041\n",
      "[42,   800] loss: 0.041\n",
      "[43,   400] loss: 0.042\n",
      "[43,   800] loss: 0.041\n",
      "[44,   400] loss: 0.041\n",
      "[44,   800] loss: 0.041\n",
      "[45,   400] loss: 0.040\n",
      "[45,   800] loss: 0.041\n",
      "[46,   400] loss: 0.040\n",
      "[46,   800] loss: 0.041\n",
      "[47,   400] loss: 0.040\n",
      "[47,   800] loss: 0.041\n",
      "[48,   400] loss: 0.040\n",
      "[48,   800] loss: 0.040\n",
      "[49,   400] loss: 0.041\n",
      "[49,   800] loss: 0.041\n",
      "[50,   400] loss: 0.040\n",
      "[50,   800] loss: 0.041\n",
      "Finished Training\n"
     ]
    }
   ],
   "source": [
    "import torch.optim as optim\n",
    "criterion = nn.CrossEntropyLoss()\n",
    "optimizer = optim.SGD(net.parameters(), lr=0.001, momentum=0.9)\n",
    "# optimizer = optim.SGD(net.parameters(), lr=0.001, momentum=0)\n",
    "max_epoch = 50\n",
    "\n",
    "for epoch in range(max_epoch):  # loop over the dataset multiple times\n",
    "\n",
    "    running_loss = 0.0\n",
    "    for i, data in enumerate(trainloader, 0):\n",
    "        # get the inputs\n",
    "        inputs, labels = data\n",
    "#         if use_gpu:\n",
    "#             inputs = inputs.cuda()\n",
    "#             labels = labels.cuda()\n",
    "        # zero the parameter gradients\n",
    "        optimizer.zero_grad()\n",
    "\n",
    "        # forward + backward + optimize\n",
    "        outputs = net(inputs)\n",
    "        loss = criterion(outputs, labels)\n",
    "        loss.backward() # backpropagation of the weights of linear layers as well as the convolutional layers\n",
    "        optimizer.step() # dynamic learning rate\n",
    "\n",
    "        # print statistics\n",
    "        running_loss += loss.item()\n",
    "        if i % 400 == 399:    # print every 2000 mini-batches\n",
    "            print('[%d, %5d] loss: %.3f' %\n",
    "                  (epoch + 1, i + 1, running_loss / 2000))\n",
    "            running_loss = 0.0\n",
    "\n",
    "print('Finished Training')"
   ]
  },
  {
   "cell_type": "code",
   "execution_count": 118,
   "metadata": {},
   "outputs": [
    {
     "name": "stdout",
     "output_type": "stream",
     "text": [
      "torch.Size([64, 1, 28, 28])\n",
      "------------------------\n",
      "torch.Size([64])\n",
      "Accuracy of the network on the 10000 test images: 93 %\n"
     ]
    }
   ],
   "source": [
    "correct = 0\n",
    "total = 0\n",
    "flag = True\n",
    "with torch.no_grad():\n",
    "    for data in testloader:\n",
    "        images, labels = data\n",
    "        if (flag):\n",
    "#             print(images)\n",
    "            single_input = images\n",
    "            print(images.shape)\n",
    "            print('------------------------')\n",
    "            print(labels.shape)\n",
    "            lable = labels\n",
    "            flag = False\n",
    "        outputs = net(images)\n",
    "        _, predicted = torch.max(outputs.data, 1)\n",
    "        total += labels.size(0)\n",
    "        correct += (predicted == labels).sum().item()\n",
    "\n",
    "print('Accuracy of the network on the 10000 test images: %d %%' % (\n",
    "    100 * correct / total))"
   ]
  },
  {
   "cell_type": "code",
   "execution_count": 122,
   "metadata": {},
   "outputs": [
    {
     "name": "stdout",
     "output_type": "stream",
     "text": [
      "[[0.0, 0.0, 0.0, 0.0, 0.0, 0.0, 0.0, 0.0, 0.0, 0.0, 0.0, 0.0, 0.0, 0.0, 0.0, 0.0, 0.0, 0.0, 0.0, 0.0, 0.0, 0.0, 0.0, 0.0, 0.0, 0.0, 0.0, 0.0], [0.0, 0.0, 0.0, 0.0, 0.0, 0.0, 0.0, 0.0, 0.0, 0.0, 0.0, 0.0, 0.0, 0.0, 0.0, 0.0, 0.0, 0.0, 0.0, 0.0, 0.0, 0.0, 0.0, 0.0, 0.0, 0.0, 0.0, 0.0], [0.0, 0.0, 0.0, 0.0, 0.0, 0.0, 0.0, 0.0, 0.0, 0.0, 0.0, 0.0, 0.0, 0.0, 0.0, 0.0, 0.0, 0.0, 0.0, 0.0, 0.0, 0.0, 0.0, 0.0, 0.0, 0.0, 0.0, 0.0], [0.0, 0.0, 0.0, 0.0, 0.0, 0.0, 0.0, 0.0, 0.0, 0.0, 0.0, 0.0, 0.0, 0.0, 0.0, 0.0, 0.0, 0.0, 0.0, 0.0, 0.0, 0.0, 0.0, 0.0, 0.0, 0.0, 0.0, 0.0], [0.0, 0.0, 0.0, 0.0, 0.0, 0.0, 0.0, 0.0, 0.0, 0.0, 0.0, 0.0, 0.0, 0.0, 0.0, 0.0, 0.0, 0.0, 0.0, 0.0, 0.0, 0.0, 0.0, 0.0, 0.0, 0.0, 0.0, 0.0], [0.0, 0.0, 0.0, 0.0, 0.0, 0.0, 0.0, 0.0, 0.0, 0.0, 0.0, 0.0, 0.0, 0.0, 0.0, 0.0, 0.0, 0.0, 0.0, 0.0, 0.0, 0.0, 0.0, 0.0, 0.0, 0.0, 0.0, 0.0], [0.0, 0.0, 0.0, 0.0, 0.0, 0.0, 0.0, 0.0, 0.0, 0.0, 0.0, 0.0, 0.0, 0.0, 0.0, 0.0, 0.0, 0.0, 0.0, 0.0, 0.0, 0.0, 0.0, 0.0, 0.0, 0.0, 0.0, 0.0], [0.0, 0.0, 0.0, 0.0, 0.0, 0.0, 0.3294117748737335, 0.7254902124404907, 0.6235294342041016, 0.5921568870544434, 0.23529411852359772, 0.1411764770746231, 0.0, 0.0, 0.0, 0.0, 0.0, 0.0, 0.0, 0.0, 0.0, 0.0, 0.0, 0.0, 0.0, 0.0, 0.0, 0.0], [0.0, 0.0, 0.0, 0.0, 0.0, 0.0, 0.8705882430076599, 0.9960784316062927, 0.9960784316062927, 0.9960784316062927, 0.9960784316062927, 0.9450980424880981, 0.7764706015586853, 0.7764706015586853, 0.7764706015586853, 0.7764706015586853, 0.7764706015586853, 0.7764706015586853, 0.7764706015586853, 0.7764706015586853, 0.6666666865348816, 0.20392157137393951, 0.0, 0.0, 0.0, 0.0, 0.0, 0.0], [0.0, 0.0, 0.0, 0.0, 0.0, 0.0, 0.26274511218070984, 0.4470588266849518, 0.2823529541492462, 0.4470588266849518, 0.6392157077789307, 0.8901960849761963, 0.9960784316062927, 0.8823529481887817, 0.9960784316062927, 0.9960784316062927, 0.9960784316062927, 0.9803921580314636, 0.8980392217636108, 0.9960784316062927, 0.9960784316062927, 0.5490196347236633, 0.0, 0.0, 0.0, 0.0, 0.0, 0.0], [0.0, 0.0, 0.0, 0.0, 0.0, 0.0, 0.0, 0.0, 0.0, 0.0, 0.0, 0.06666667014360428, 0.25882354378700256, 0.054901961237192154, 0.26274511218070984, 0.26274511218070984, 0.26274511218070984, 0.23137255012989044, 0.08235294371843338, 0.9254902005195618, 0.9960784316062927, 0.4156862795352936, 0.0, 0.0, 0.0, 0.0, 0.0, 0.0], [0.0, 0.0, 0.0, 0.0, 0.0, 0.0, 0.0, 0.0, 0.0, 0.0, 0.0, 0.0, 0.0, 0.0, 0.0, 0.0, 0.0, 0.0, 0.32549020648002625, 0.9921568632125854, 0.8196078538894653, 0.07058823853731155, 0.0, 0.0, 0.0, 0.0, 0.0, 0.0], [0.0, 0.0, 0.0, 0.0, 0.0, 0.0, 0.0, 0.0, 0.0, 0.0, 0.0, 0.0, 0.0, 0.0, 0.0, 0.0, 0.0, 0.08627451211214066, 0.9137254953384399, 1.0, 0.32549020648002625, 0.0, 0.0, 0.0, 0.0, 0.0, 0.0, 0.0], [0.0, 0.0, 0.0, 0.0, 0.0, 0.0, 0.0, 0.0, 0.0, 0.0, 0.0, 0.0, 0.0, 0.0, 0.0, 0.0, 0.0, 0.5058823823928833, 0.9960784316062927, 0.9333333373069763, 0.1725490242242813, 0.0, 0.0, 0.0, 0.0, 0.0, 0.0, 0.0], [0.0, 0.0, 0.0, 0.0, 0.0, 0.0, 0.0, 0.0, 0.0, 0.0, 0.0, 0.0, 0.0, 0.0, 0.0, 0.0, 0.23137255012989044, 0.9764705896377563, 0.9960784316062927, 0.24313725531101227, 0.0, 0.0, 0.0, 0.0, 0.0, 0.0, 0.0, 0.0], [0.0, 0.0, 0.0, 0.0, 0.0, 0.0, 0.0, 0.0, 0.0, 0.0, 0.0, 0.0, 0.0, 0.0, 0.0, 0.0, 0.5215686559677124, 0.9960784316062927, 0.7333333492279053, 0.019607843831181526, 0.0, 0.0, 0.0, 0.0, 0.0, 0.0, 0.0, 0.0], [0.0, 0.0, 0.0, 0.0, 0.0, 0.0, 0.0, 0.0, 0.0, 0.0, 0.0, 0.0, 0.0, 0.0, 0.0, 0.03529411926865578, 0.8039215803146362, 0.9725490212440491, 0.22745098173618317, 0.0, 0.0, 0.0, 0.0, 0.0, 0.0, 0.0, 0.0, 0.0], [0.0, 0.0, 0.0, 0.0, 0.0, 0.0, 0.0, 0.0, 0.0, 0.0, 0.0, 0.0, 0.0, 0.0, 0.0, 0.4941176474094391, 0.9960784316062927, 0.7137255072593689, 0.0, 0.0, 0.0, 0.0, 0.0, 0.0, 0.0, 0.0, 0.0, 0.0], [0.0, 0.0, 0.0, 0.0, 0.0, 0.0, 0.0, 0.0, 0.0, 0.0, 0.0, 0.0, 0.0, 0.0, 0.29411765933036804, 0.9843137264251709, 0.9411764740943909, 0.2235294133424759, 0.0, 0.0, 0.0, 0.0, 0.0, 0.0, 0.0, 0.0, 0.0, 0.0], [0.0, 0.0, 0.0, 0.0, 0.0, 0.0, 0.0, 0.0, 0.0, 0.0, 0.0, 0.0, 0.0, 0.07450980693101883, 0.8666666746139526, 0.9960784316062927, 0.6509804129600525, 0.0, 0.0, 0.0, 0.0, 0.0, 0.0, 0.0, 0.0, 0.0, 0.0, 0.0], [0.0, 0.0, 0.0, 0.0, 0.0, 0.0, 0.0, 0.0, 0.0, 0.0, 0.0, 0.0, 0.0117647061124444, 0.7960784435272217, 0.9960784316062927, 0.8588235378265381, 0.13725490868091583, 0.0, 0.0, 0.0, 0.0, 0.0, 0.0, 0.0, 0.0, 0.0, 0.0, 0.0], [0.0, 0.0, 0.0, 0.0, 0.0, 0.0, 0.0, 0.0, 0.0, 0.0, 0.0, 0.0, 0.14901961386203766, 0.9960784316062927, 0.9960784316062927, 0.3019607961177826, 0.0, 0.0, 0.0, 0.0, 0.0, 0.0, 0.0, 0.0, 0.0, 0.0, 0.0, 0.0], [0.0, 0.0, 0.0, 0.0, 0.0, 0.0, 0.0, 0.0, 0.0, 0.0, 0.0, 0.12156862765550613, 0.8784313797950745, 0.9960784316062927, 0.45098039507865906, 0.003921568859368563, 0.0, 0.0, 0.0, 0.0, 0.0, 0.0, 0.0, 0.0, 0.0, 0.0, 0.0, 0.0], [0.0, 0.0, 0.0, 0.0, 0.0, 0.0, 0.0, 0.0, 0.0, 0.0, 0.0, 0.5215686559677124, 0.9960784316062927, 0.9960784316062927, 0.20392157137393951, 0.0, 0.0, 0.0, 0.0, 0.0, 0.0, 0.0, 0.0, 0.0, 0.0, 0.0, 0.0, 0.0], [0.0, 0.0, 0.0, 0.0, 0.0, 0.0, 0.0, 0.0, 0.0, 0.0, 0.239215686917305, 0.9490196108818054, 0.9960784316062927, 0.9960784316062927, 0.20392157137393951, 0.0, 0.0, 0.0, 0.0, 0.0, 0.0, 0.0, 0.0, 0.0, 0.0, 0.0, 0.0, 0.0], [0.0, 0.0, 0.0, 0.0, 0.0, 0.0, 0.0, 0.0, 0.0, 0.0, 0.4745098054409027, 0.9960784316062927, 0.9960784316062927, 0.8588235378265381, 0.1568627506494522, 0.0, 0.0, 0.0, 0.0, 0.0, 0.0, 0.0, 0.0, 0.0, 0.0, 0.0, 0.0, 0.0], [0.0, 0.0, 0.0, 0.0, 0.0, 0.0, 0.0, 0.0, 0.0, 0.0, 0.4745098054409027, 0.9960784316062927, 0.8117647171020508, 0.07058823853731155, 0.0, 0.0, 0.0, 0.0, 0.0, 0.0, 0.0, 0.0, 0.0, 0.0, 0.0, 0.0, 0.0, 0.0], [0.0, 0.0, 0.0, 0.0, 0.0, 0.0, 0.0, 0.0, 0.0, 0.0, 0.0, 0.0, 0.0, 0.0, 0.0, 0.0, 0.0, 0.0, 0.0, 0.0, 0.0, 0.0, 0.0, 0.0, 0.0, 0.0, 0.0, 0.0]]\n",
      "tensor(7)\n"
     ]
    }
   ],
   "source": [
    "single_input_list = single_input[0][0].tolist()\n",
    "print(single_input_list)\n",
    "print(lable[0])"
   ]
  },
  {
   "cell_type": "code",
   "execution_count": 46,
   "metadata": {},
   "outputs": [
    {
     "name": "stdout",
     "output_type": "stream",
     "text": [
      "Model's state_dict:\n",
      "fc1.weight \t torch.Size([8, 784])\n",
      "fc1.bias \t torch.Size([8])\n",
      "fc2.weight \t torch.Size([8, 8])\n",
      "fc2.bias \t torch.Size([8])\n",
      "fc3.weight \t torch.Size([8, 8])\n",
      "fc3.bias \t torch.Size([8])\n",
      "fc4.weight \t torch.Size([10, 8])\n",
      "fc4.bias \t torch.Size([10])\n"
     ]
    }
   ],
   "source": [
    "# Print model's state_dict\n",
    "print(\"Model's state_dict:\")\n",
    "for param_tensor in net.state_dict():\n",
    "    print(param_tensor, \"\\t\", net.state_dict()[param_tensor].size())"
   ]
  },
  {
   "cell_type": "code",
   "execution_count": 60,
   "metadata": {},
   "outputs": [],
   "source": [
    "torch.save(net.state_dict(), \"./datasets/nn1.pkl\")"
   ]
  },
  {
   "cell_type": "code",
   "execution_count": 143,
   "metadata": {},
   "outputs": [],
   "source": [
    "# save parameters as json file\n",
    "# {\n",
    "#   \"layers\": [2,2,1],\n",
    "#   \"input\": [0.0, 0.0],\n",
    "#   \"expectedOutput\": [0.0],\n",
    "#   \"weights\": {\n",
    "#     \"1\": [[1.0,1.0],[1.0,1.0]],\n",
    "#     \"2\": [[1.0], [-2.0]]\n",
    "#   },\n",
    "#   \"biases\": {\n",
    "#     \"1\": [[0.0], [-1.0]],\n",
    "#     \"2\": [[0.0]]\n",
    "#   }\n",
    "# }\n",
    "import json\n",
    "\n",
    "# output = json.dumps(net.state_dict()[\"fc1.weight\"].tolist())\n",
    "output = {}\n",
    "\n",
    "output['layers'] = [784, 8, 8, 8, 10] # [input, hidden layers, ..., output]\n",
    "\n",
    "output_input = []\n",
    "for i in range(28):\n",
    "    for j in range(28):\n",
    "        output_input.append(single_input_list[i][j])\n",
    "output['input'] = output_input\n",
    "\n",
    "output_expectedOutput = np.zeros(10)\n",
    "output_expectedOutput[lable.tolist()[0]] = 1\n",
    "output['expectedOutput'] = output_expectedOutput.tolist()\n",
    "\n",
    "output_weights = {}\n",
    "output_biases = {}\n",
    "i = 1\n",
    "for param_tensor in net.state_dict():\n",
    "    if ('weight' in param_tensor):\n",
    "        output_weights[str(i)] =  net.state_dict()[param_tensor].tolist()\n",
    "    if ('bias' in param_tensor):\n",
    "        output_biases[str(i)] = net.state_dict()[param_tensor].tolist()\n",
    "        i += 1\n",
    "output['weights'] = output_weights\n",
    "output['biases'] = output_biases\n",
    "\n",
    "with open('./datasets/nn1.json', 'w') as f:\n",
    "    json.dump(output, f)\n"
   ]
  },
  {
   "cell_type": "code",
   "execution_count": 146,
   "metadata": {},
   "outputs": [
    {
     "data": {
      "text/plain": [
       "(8, 784)"
      ]
     },
     "execution_count": 146,
     "metadata": {},
     "output_type": "execute_result"
    }
   ],
   "source": [
    "np.shape(output_weights['1'])"
   ]
  }
 ],
 "metadata": {
  "kernelspec": {
   "display_name": "Python 3",
   "language": "python",
   "name": "python3"
  },
  "language_info": {
   "codemirror_mode": {
    "name": "ipython",
    "version": 3
   },
   "file_extension": ".py",
   "mimetype": "text/x-python",
   "name": "python",
   "nbconvert_exporter": "python",
   "pygments_lexer": "ipython3",
   "version": "3.7.1"
  }
 },
 "nbformat": 4,
 "nbformat_minor": 2
}
